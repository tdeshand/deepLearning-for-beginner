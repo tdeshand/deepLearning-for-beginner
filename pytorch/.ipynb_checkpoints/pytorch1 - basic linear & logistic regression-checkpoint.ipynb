{
 "cells": [
  {
   "cell_type": "code",
   "execution_count": 1,
   "metadata": {
    "collapsed": true
   },
   "outputs": [],
   "source": [
    "import numpy as np\n",
    "import matplotlib.pyplot as plt\n",
    "\n",
    "%matplotlib inline"
   ]
  },
  {
   "cell_type": "markdown",
   "metadata": {},
   "source": [
    "<h1 style='color:skyblue;'>Basic linear regression example with pytorch 1</h1>"
   ]
  },
  {
   "cell_type": "code",
   "execution_count": 2,
   "metadata": {},
   "outputs": [
    {
     "data": {
      "image/png": "[encoded data removed]",
      "text/plain": [
       "<matplotlib.figure.Figure at 0x21b3b589438>"
      ]
     },
     "metadata": {},
     "output_type": "display_data"
    }
   ],
   "source": [
    "#make data set\n",
    "x_linear = np.linspace(-10, 10, 100)\n",
    "\n",
    "y_linear = 2 * x_linear + 5\n",
    "\n",
    "plt.plot(x_linear, y_linear)\n",
    "plt.grid(True)"
   ]
  },
  {
   "cell_type": "code",
   "execution_count": 3,
   "metadata": {
    "collapsed": true
   },
   "outputs": [],
   "source": [
    "import torch\n",
    "from torch.autograd import Variable"
   ]
  },
  {
   "cell_type": "code",
   "execution_count": 11,
   "metadata": {
    "collapsed": true
   },
   "outputs": [],
   "source": [
    "#define random variables for predicting \n",
    "#y = mx + c\n",
    "w = Variable(torch.random.torch.Tensor(1), requires_grad=True)#for gradient(m) \n",
    "b = Variable(torch.random.torch.Tensor(1), requires_grad=True)#for intercept(c)\n",
    "\n",
    "# y = wx + b\n",
    "# w - weights\n",
    "# b - bias\n"
   ]
  },
  {
   "cell_type": "code",
   "execution_count": 12,
   "metadata": {
    "collapsed": true
   },
   "outputs": [],
   "source": [
    "def forward(x):\n",
    "    return w * x + b\n",
    "\n",
    "def loss(x, y):\n",
    "    y_pred = forward(x)\n",
    "    return (y_pred - y) ** 2"
   ]
  },
  {
   "cell_type": "code",
   "execution_count": 13,
   "metadata": {},
   "outputs": [
    {
     "name": "stdout",
     "output_type": "stream",
     "text": [
      "before traning\n",
      "w is tensor([168.3138], requires_grad=True)\n",
      "b is tensor([180.0923], requires_grad=True)\n",
      "\n",
      "after traning\n",
      "w is tensor([2.0000], requires_grad=True)\n",
      "b is tensor([5.0000], requires_grad=True)\n"
     ]
    }
   ],
   "source": [
    "lr = 0.01\n",
    "\n",
    "#for plotting\n",
    "cost = []\n",
    "\n",
    "print('before traning')\n",
    "print('w is', w)\n",
    "print('b is', b)\n",
    "\n",
    "for epoch in range(1000):\n",
    "    for x, y in zip(x_linear, y_linear):\n",
    "        l = loss(x, y)\n",
    "        cost.append(l)\n",
    "        #to do backpropagation\n",
    "        l.backward()\n",
    "        \n",
    "        w.data -= lr * w.grad.data\n",
    "        b.data -= lr * b.grad.data\n",
    "        \n",
    "        w.grad.data.zero_()\n",
    "        b.grad.data.zero_()\n",
    "\n",
    "print('\\nafter traning')\n",
    "print('w is', w)\n",
    "print('b is', b)"
   ]
  },
  {
   "cell_type": "code",
   "execution_count": 14,
   "metadata": {},
   "outputs": [
    {
     "data": {
      "text/plain": [
       "[<matplotlib.lines.Line2D at 0x21b4e49a048>]"
      ]
     },
     "execution_count": 14,
     "metadata": {},
     "output_type": "execute_result"
    },
    {
     "data": {
      "image/png": "[encoded data removed]",
      "text/plain": [
       "<matplotlib.figure.Figure at 0x21b3ff7e278>"
      ]
     },
     "metadata": {},
     "output_type": "display_data"
    }
   ],
   "source": [
    "plt.plot(cost)"
   ]
  },
  {
   "cell_type": "code",
   "execution_count": null,
   "metadata": {
    "collapsed": true
   },
   "outputs": [],
   "source": []
  },
  {
   "cell_type": "markdown",
   "metadata": {
    "collapsed": true
   },
   "source": [
    "<h1 style='color:skyblue;'>Basic linear regression example with pytorch 2</h1>"
   ]
  },
  {
   "cell_type": "code",
   "execution_count": 15,
   "metadata": {
    "collapsed": true
   },
   "outputs": [],
   "source": [
    "from torch import nn"
   ]
  },
  {
   "cell_type": "code",
   "execution_count": 16,
   "metadata": {
    "collapsed": true
   },
   "outputs": [],
   "source": [
    "class LinearModule1(nn.Module):\n",
    "    \n",
    "    def __init__(self):\n",
    "        super().__init__()\n",
    "        \n",
    "        #1 in & 1 out linear layer\n",
    "        self.l1 = nn.Linear(1, 1)\n",
    "    \n",
    "    def forward(self, x):\n",
    "        y_pred = self.l1(x)\n",
    "        \n",
    "        return y_pred"
   ]
  },
  {
   "cell_type": "code",
   "execution_count": 17,
   "metadata": {
    "collapsed": true
   },
   "outputs": [],
   "source": [
    "#get instance from Linear model\n",
    "model = LinearModule1()"
   ]
  },
  {
   "cell_type": "code",
   "execution_count": 18,
   "metadata": {
    "collapsed": true
   },
   "outputs": [],
   "source": [
    "#get cost & optimizer objects\n",
    "criterion = nn.MSELoss()\n",
    "optimizer = torch.optim.SGD(model.parameters(), lr=.01)"
   ]
  },
  {
   "cell_type": "code",
   "execution_count": 19,
   "metadata": {
    "collapsed": true
   },
   "outputs": [],
   "source": [
    "#pre-processing data \n",
    "x_data = torch.Tensor(x_linear).reshape(-1, 1)\n",
    "y_data = torch.Tensor(y_linear).reshape(-1, 1)"
   ]
  },
  {
   "cell_type": "code",
   "execution_count": 20,
   "metadata": {
    "collapsed": true
   },
   "outputs": [],
   "source": [
    "for epoch in range(1000):\n",
    "    y_pred = model(x_data)\n",
    "    cost = criterion(y_pred, y_data)\n",
    "    \n",
    "    optimizer.zero_grad()#zero the all gradient values of variables\n",
    "    cost.backward()#back-propagate\n",
    "    optimizer.step()#Update weights that pass in model.parameters()"
   ]
  },
  {
   "cell_type": "code",
   "execution_count": 21,
   "metadata": {},
   "outputs": [
    {
     "data": {
      "text/plain": [
       "[<matplotlib.lines.Line2D at 0x21b4f484908>]"
      ]
     },
     "execution_count": 21,
     "metadata": {},
     "output_type": "execute_result"
    },
    {
     "data": {
      "image/png": "[encoded data removed]",
      "text/plain": [
       "<matplotlib.figure.Figure at 0x21b4f484ac8>"
      ]
     },
     "metadata": {},
     "output_type": "display_data"
    }
   ],
   "source": [
    "plt.plot(x_linear, y_linear)\n",
    "plt.plot(x_linear, model.forward(x_data).tolist())"
   ]
  },
  {
   "cell_type": "code",
   "execution_count": null,
   "metadata": {
    "collapsed": true
   },
   "outputs": [],
   "source": []
  },
  {
   "cell_type": "code",
   "execution_count": null,
   "metadata": {
    "collapsed": true
   },
   "outputs": [],
   "source": []
  },
  {
   "cell_type": "markdown",
   "metadata": {},
   "source": [
    "<h1 style='color:skyblue;'>Basic logistic regression example with pytorch</h1>\n",
    "<h2 style='color:yellowgreen;'>Predicting \"logical AND\" gate </h2>"
   ]
  },
  {
   "cell_type": "code",
   "execution_count": 22,
   "metadata": {
    "collapsed": true
   },
   "outputs": [],
   "source": [
    "x_in = torch.Tensor([\n",
    "    [0, 0],\n",
    "    [0, 1],\n",
    "    [1, 0],\n",
    "    [1, 1]\n",
    "])\n",
    "\n",
    "y_and = torch.Tensor([0, 0, 0, 1]).reshape(-1, 1)"
   ]
  },
  {
   "cell_type": "code",
   "execution_count": 23,
   "metadata": {
    "collapsed": true
   },
   "outputs": [],
   "source": [
    "class ModuleAnd(nn.Module):\n",
    "    \n",
    "    def __init__(self):\n",
    "        super().__init__()\n",
    "        \n",
    "        self.l1 = nn.Linear(2, 1)#2 in (x1 & x2) & 1 out\n",
    "    \n",
    "    def forward(self, x):\n",
    "        y_pred = self.l1(x)\n",
    "        \n",
    "        return torch.sigmoid(y_pred)"
   ]
  },
  {
   "cell_type": "code",
   "execution_count": 24,
   "metadata": {
    "collapsed": true
   },
   "outputs": [],
   "source": [
    "modelAnd = ModuleAnd()"
   ]
  },
  {
   "cell_type": "code",
   "execution_count": 25,
   "metadata": {
    "collapsed": true
   },
   "outputs": [],
   "source": [
    "cost = nn.BCELoss()\n",
    "optimizer = torch.optim.Adam(modelAnd.parameters(), lr=0.1)"
   ]
  },
  {
   "cell_type": "code",
   "execution_count": 26,
   "metadata": {
    "collapsed": true
   },
   "outputs": [],
   "source": [
    "for epoch in range(1000):\n",
    "    y_pred = modelAnd(x_in)\n",
    "    err = cost(y_pred, y_and)\n",
    "    \n",
    "    optimizer.zero_grad()\n",
    "    err.backward()\n",
    "    optimizer.step()"
   ]
  },
  {
   "cell_type": "code",
   "execution_count": 27,
   "metadata": {},
   "outputs": [
    {
     "name": "stdout",
     "output_type": "stream",
     "text": [
      "0 --> tensor([[1.9327e-07]], grad_fn=<SigmoidBackward>)\n",
      "0 --> tensor([[0.0057]], grad_fn=<SigmoidBackward>)\n",
      "0 --> tensor([[0.0057]], grad_fn=<SigmoidBackward>)\n",
      "1 --> tensor([[0.9941]], grad_fn=<SigmoidBackward>)\n"
     ]
    }
   ],
   "source": [
    "print(0, '-->',modelAnd.forward(torch.Tensor([[0, 0]])))\n",
    "print(0, '-->',modelAnd.forward(Variable(torch.Tensor([[0, 1]]))))\n",
    "print(0, '-->',modelAnd.forward(Variable(torch.Tensor([[1, 0]]))))\n",
    "print(1, '-->',modelAnd.forward(Variable(torch.Tensor([[1, 1]]))))"
   ]
  },
  {
   "cell_type": "code",
   "execution_count": null,
   "metadata": {
    "collapsed": true
   },
   "outputs": [],
   "source": []
  }
 ],
 "metadata": {
  "kernelspec": {
   "display_name": "Python 3",
   "language": "python",
   "name": "python3"
  },
  "language_info": {
   "codemirror_mode": {
    "name": "ipython",
    "version": 3
   },
   "file_extension": ".py",
   "mimetype": "text/x-python",
   "name": "python",
   "nbconvert_exporter": "python",
   "pygments_lexer": "ipython3",
   "version": "3.6.3"
  }
 },
 "nbformat": 4,
 "nbformat_minor": 2
}
